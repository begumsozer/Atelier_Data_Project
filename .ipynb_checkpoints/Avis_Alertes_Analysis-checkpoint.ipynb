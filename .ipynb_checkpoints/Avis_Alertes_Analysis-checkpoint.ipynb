{
 "cells": [
  {
   "cell_type": "markdown",
   "id": "d410097a-e0d4-40f0-86a5-5443e7fa9aad",
   "metadata": {},
   "source": [
    "<div align=\"center\">\r\n",
    "\r\n",
    "# 🔐 Projet Mastercamp 2025  \r\n",
    "## Surveillance & Analyse Automatisée des Vulnérabilités ANSSI (CVE)\r\n",
    "\r\n",
    "**Participants :**  \r\n",
    "- Abouleila Selim  \r\n",
    "- Sozer Begumu  \r\n",
    "- Nguedia Duval  \r\n",
    "\r\n",
    "</div>\r\n"
   ]
  },
  {
   "cell_type": "code",
   "execution_count": 2,
   "id": "5dec125c-fce2-4ff5-9034-58ce438f0a2f",
   "metadata": {},
   "outputs": [
    {
     "ename": "ModuleNotFoundError",
     "evalue": "No module named 'feedparser'",
     "output_type": "error",
     "traceback": [
      "\u001b[1;31m---------------------------------------------------------------------------\u001b[0m",
      "\u001b[1;31mModuleNotFoundError\u001b[0m                       Traceback (most recent call last)",
      "Cell \u001b[1;32mIn[2], line 1\u001b[0m\n\u001b[1;32m----> 1\u001b[0m \u001b[38;5;28;01mimport\u001b[39;00m \u001b[38;5;21;01mfeedparser\u001b[39;00m\n\u001b[0;32m      3\u001b[0m url \u001b[38;5;241m=\u001b[39m \u001b[38;5;124m\"\u001b[39m\u001b[38;5;124mhttps://www.cert.ssi.gouv.fr/avis/feed\u001b[39m\u001b[38;5;124m\"\u001b[39m\n\u001b[0;32m      4\u001b[0m rss_feed \u001b[38;5;241m=\u001b[39m feedparser\u001b[38;5;241m.\u001b[39mparse(url)\n",
      "\u001b[1;31mModuleNotFoundError\u001b[0m: No module named 'feedparser'"
     ]
    }
   ],
   "source": [
    "import feedparser\n",
    "\n",
    "url = \"https://www.cert.ssi.gouv.fr/avis/feed\"\n",
    "rss_feed = feedparser.parse(url)\n",
    "\n",
    "for entry in rss_feed.entries:\n",
    "    print(entry.title, entry.link, entry.published, entry.description)"
   ]
  },
  {
   "cell_type": "code",
   "execution_count": null,
   "id": "b4103871-62a4-4bc8-aa01-395df8627709",
   "metadata": {},
   "outputs": [],
   "source": []
  }
 ],
 "metadata": {
  "kernelspec": {
   "display_name": "Python 3 (ipykernel)",
   "language": "python",
   "name": "python3"
  },
  "language_info": {
   "codemirror_mode": {
    "name": "ipython",
    "version": 3
   },
   "file_extension": ".py",
   "mimetype": "text/x-python",
   "name": "python",
   "nbconvert_exporter": "python",
   "pygments_lexer": "ipython3",
   "version": "3.12.4"
  }
 },
 "nbformat": 4,
 "nbformat_minor": 5
}
